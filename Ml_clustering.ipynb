{
  "nbformat": 4,
  "nbformat_minor": 0,
  "metadata": {
    "colab": {
      "provenance": []
    },
    "kernelspec": {
      "name": "python3",
      "display_name": "Python 3"
    },
    "language_info": {
      "name": "python"
    }
  },
  "cells": [
    {
      "cell_type": "markdown",
      "source": [
        "K-Means Clustering"
      ],
      "metadata": {
        "id": "mizx8T49RpZk"
      }
    },
    {
      "cell_type": "code",
      "execution_count": null,
      "metadata": {
        "colab": {
          "base_uri": "https://localhost:8080/"
        },
        "id": "VxaxCZzsRjMq",
        "outputId": "0d7694cd-b67d-42cb-a91c-a8a00ab01a41"
      },
      "outputs": [
        {
          "output_type": "stream",
          "name": "stdout",
          "text": [
            "Silhouette Score (without standardization): 0.07285597664482353\n",
            "Davies-Bouldin Index: 1.8939635276383704\n",
            "Calinski-Harabasz Index: 8.188247386179299\n"
          ]
        }
      ],
      "source": [
        "from sklearn.preprocessing import StandardScaler\n",
        "import pandas as pd\n",
        "from sklearn.cluster import KMeans\n",
        "from sklearn.metrics import silhouette_score, davies_bouldin_score, calinski_harabasz_score\n",
        "import numpy as np\n",
        "from scipy.spatial.distance import pdist, squareform\n",
        "\n",
        "# Load the data\n",
        "def load_data(file_path):\n",
        "    data = pd.read_excel(file_path)\n",
        "    scaler = StandardScaler()  # Standard scaling\n",
        "    return scaler.fit_transform(data)\n",
        "\n",
        "# Apply K-means clustering (without standardization)\n",
        "def apply_kmeans(data, n_clusters=3):\n",
        "    kmeans = KMeans(n_clusters=n_clusters, random_state=42)\n",
        "    kmeans.fit(data)\n",
        "    return kmeans, kmeans.labels_\n",
        "\n",
        "\n",
        "\n",
        "#  Evaluate clustering performance using all metrics\n",
        "def evaluate_clustering(data, kmeans, labels):\n",
        "\n",
        "    silhouette_avg = silhouette_score(data, labels)  # Silhouette score\n",
        "    davies_bouldin = davies_bouldin_score(data, labels)  # Davies-Bouldin index\n",
        "    calinski_harabasz = calinski_harabasz_score(data, labels)  # Calinski-Harabasz index\n",
        "\n",
        "    return  silhouette_avg, davies_bouldin, calinski_harabasz\n",
        "\n",
        "# Main function to run the process\n",
        "def main(file_path, n_clusters):\n",
        "    # Load the data\n",
        "    data = load_data(file_path)\n",
        "\n",
        "    # Apply K-means clustering\n",
        "    kmeans_model, labels = apply_kmeans(data, n_clusters)\n",
        "\n",
        "    # Evaluate performance\n",
        "    silhouette_avg, davies_bouldin, calinski_harabasz = evaluate_clustering(data, kmeans_model, labels)\n",
        "\n",
        "    # Print results\n",
        "    print(f\"Silhouette Score (without standardization): {silhouette_avg}\")\n",
        "    print(f\"Davies-Bouldin Index: {davies_bouldin}\")\n",
        "    print(f\"Calinski-Harabasz Index: {calinski_harabasz}\")\n",
        "\n",
        "# Specify the file path and number of clusters\n",
        "file_path = '/content/Clustering.xlsx'\n",
        "n_clusters = 3\n",
        "\n",
        "# Run the main function\n",
        "main(file_path, n_clusters)"
      ]
    },
    {
      "cell_type": "markdown",
      "source": [
        "Hierarchical Clustering(Agglomerative Clustering)"
      ],
      "metadata": {
        "id": "fRfac-UlRqVs"
      }
    },
    {
      "cell_type": "code",
      "source": [
        "import pandas as pd\n",
        "from sklearn.cluster import AgglomerativeClustering\n",
        "from sklearn.metrics import silhouette_score, davies_bouldin_score, calinski_harabasz_score\n",
        "import numpy as np\n",
        "from scipy.spatial.distance import pdist\n",
        "\n",
        "# Module 1: Load the data\n",
        "def load_data(file_path):\n",
        "    data = pd.read_excel(file_path)\n",
        "    scaler = StandardScaler()  # Standard scaling\n",
        "    return scaler.fit_transform(data)\n",
        "\n",
        "# Module 2: Apply Hierarchical (Agglomerative) Clustering\n",
        "def apply_hierarchical_clustering(data, n_clusters=3):\n",
        "    clustering = AgglomerativeClustering(n_clusters=n_clusters)\n",
        "    labels = clustering.fit_predict(data)\n",
        "    return clustering, labels\n",
        "\n",
        "\n",
        "\n",
        "# Module 4: Calculate Centroids for Clusters\n",
        "def calculate_centroids(data, labels):\n",
        "    unique_labels = np.unique(labels)\n",
        "    centroids = np.array([data[labels == label].mean(axis=0) for label in unique_labels])\n",
        "    return centroids\n",
        "\n",
        "\n",
        "# Module 6: Evaluate clustering performance using all metrics\n",
        "def evaluate_clustering(data, labels):\n",
        "    silhouette_avg = silhouette_score(data, labels)  # Silhouette score\n",
        "    davies_bouldin = davies_bouldin_score(data, labels)  # Davies-Bouldin index\n",
        "    calinski_harabasz = calinski_harabasz_score(data, labels)  # Calinski-Harabasz index\n",
        "    centroids = calculate_centroids(data, labels)  # Calculate cluster centroids\n",
        "\n",
        "    return silhouette_avg, davies_bouldin, calinski_harabasz\n",
        "\n",
        "# Main function to run the process\n",
        "def main(file_path, n_clusters):\n",
        "    # Load the data\n",
        "    data = load_data(file_path)\n",
        "\n",
        "    # Apply Hierarchical clustering\n",
        "    clustering_model, labels = apply_hierarchical_clustering(data, n_clusters)\n",
        "\n",
        "    # Evaluate performance\n",
        "    silhouette_avg, davies_bouldin, calinski_harabasz= evaluate_clustering(data, labels)\n",
        "\n",
        "    # Print results\n",
        "    print(f\"Silhouette Score (Hierarchical Clustering): {silhouette_avg}\")\n",
        "    print(f\"Davies-Bouldin Index: {davies_bouldin}\")\n",
        "    print(f\"Calinski-Harabasz Index: {calinski_harabasz}\")\n",
        "\n",
        "\n",
        "# Specify the file path and number of clusters\n",
        "file_path = '/content/Clustering.xlsx'\n",
        "n_clusters = 3\n",
        "\n",
        "# Run the main function\n",
        "main(file_path, n_clusters)"
      ],
      "metadata": {
        "colab": {
          "base_uri": "https://localhost:8080/"
        },
        "id": "6lzkRHSQRp9Y",
        "outputId": "f5c5d77e-3b6d-4e26-9466-6731b7b096bc"
      },
      "execution_count": null,
      "outputs": [
        {
          "output_type": "stream",
          "name": "stdout",
          "text": [
            "Silhouette Score (Hierarchical Clustering): 0.25986263076539934\n",
            "Davies-Bouldin Index: 1.7302105745424938\n",
            "Calinski-Harabasz Index: 20.36661632498553\n"
          ]
        }
      ]
    },
    {
      "cell_type": "markdown",
      "source": [
        "Gaussian Mixture Models (GMM)"
      ],
      "metadata": {
        "id": "weKj8vhLRrZx"
      }
    },
    {
      "cell_type": "code",
      "source": [
        "import pandas as pd\n",
        "import numpy as np\n",
        "from sklearn.mixture import GaussianMixture\n",
        "from sklearn.metrics import silhouette_score, davies_bouldin_score, calinski_harabasz_score\n",
        "\n",
        "# Load the dataset\n",
        "def load_data(file_path, sheet_name=0):\n",
        "    data = pd.read_excel(file_path)\n",
        "    scaler = StandardScaler()  # Standard scaling\n",
        "    return scaler.fit_transform(data)\n",
        "\n",
        "# Apply GMM clustering\n",
        "def apply_gmm(data, n_components=2, covariance_type='full'):\n",
        "    gmm = GaussianMixture(n_components=n_components, covariance_type=covariance_type)\n",
        "    labels = gmm.fit_predict(data)\n",
        "    return labels, gmm\n",
        "\n",
        "# Evaluate clustering performance using three metrics\n",
        "def evaluate_clustering(data, labels):\n",
        "    if len(set(labels)) > 1:\n",
        "        silhouette = silhouette_score(data, labels)  # Silhouette score\n",
        "        davies_bouldin = davies_bouldin_score(data, labels)  # Davies-Bouldin index\n",
        "        calinski_harabasz = calinski_harabasz_score(data, labels)  # Calinski-Harabasz index\n",
        "    else:\n",
        "        silhouette = -1  # Invalid silhouette score for 1 cluster\n",
        "        davies_bouldin = -1\n",
        "        calinski_harabasz = -1\n",
        "\n",
        "    return silhouette, davies_bouldin, calinski_harabasz\n",
        "\n",
        "# Main function to execute GMM on the loaded data\n",
        "def run_gmm_clustering(file_path, sheet_name=0, n_components=2, covariance_type='full'):\n",
        "    # Load data\n",
        "    data = load_data(file_path, sheet_name)\n",
        "\n",
        "\n",
        "    # Apply GMM\n",
        "    labels, gmm = apply_gmm(data, n_components=n_components, covariance_type=covariance_type)\n",
        "\n",
        "    # Evaluate performance\n",
        "    silhouette, davies_bouldin, calinski_harabasz = evaluate_clustering(data, labels)\n",
        "\n",
        "    # Print results\n",
        "    print(f\"Silhouette Score: {silhouette}\")\n",
        "    print(f\"Davies-Bouldin Index: {davies_bouldin}\")\n",
        "    print(f\"Calinski-Harabasz Index: {calinski_harabasz}\")\n",
        "\n",
        "# Run the GMM clustering using the uploaded Excel file\n",
        "file_path = '/content/Clustering.xlsx'\n",
        "run_gmm_clustering(file_path, n_components=3, covariance_type='full')"
      ],
      "metadata": {
        "colab": {
          "base_uri": "https://localhost:8080/"
        },
        "id": "kAVQEksxRq8Q",
        "outputId": "3e19d816-84e5-4859-e829-71c362ba68e7"
      },
      "execution_count": null,
      "outputs": [
        {
          "output_type": "stream",
          "name": "stdout",
          "text": [
            "Silhouette Score: 0.26290792723919526\n",
            "Davies-Bouldin Index: 1.4561290598296963\n",
            "Calinski-Harabasz Index: 19.256803846738396\n"
          ]
        }
      ]
    },
    {
      "cell_type": "code",
      "source": [
        "!pip install scikit-learn-extra\n"
      ],
      "metadata": {
        "colab": {
          "base_uri": "https://localhost:8080/"
        },
        "id": "b29U5v-TT-Hl",
        "outputId": "83be7237-6f6c-4718-a3b0-7d27011f52b0"
      },
      "execution_count": null,
      "outputs": [
        {
          "output_type": "stream",
          "name": "stdout",
          "text": [
            "Requirement already satisfied: scikit-learn-extra in /usr/local/lib/python3.10/dist-packages (0.3.0)\n",
            "Requirement already satisfied: numpy>=1.13.3 in /usr/local/lib/python3.10/dist-packages (from scikit-learn-extra) (1.26.4)\n",
            "Requirement already satisfied: scipy>=0.19.1 in /usr/local/lib/python3.10/dist-packages (from scikit-learn-extra) (1.13.1)\n",
            "Requirement already satisfied: scikit-learn>=0.23.0 in /usr/local/lib/python3.10/dist-packages (from scikit-learn-extra) (1.5.2)\n",
            "Requirement already satisfied: joblib>=1.2.0 in /usr/local/lib/python3.10/dist-packages (from scikit-learn>=0.23.0->scikit-learn-extra) (1.4.2)\n",
            "Requirement already satisfied: threadpoolctl>=3.1.0 in /usr/local/lib/python3.10/dist-packages (from scikit-learn>=0.23.0->scikit-learn-extra) (3.5.0)\n"
          ]
        }
      ]
    },
    {
      "cell_type": "markdown",
      "source": [
        "K-Medoids Clustering"
      ],
      "metadata": {
        "id": "UjZHrqMIRs4u"
      }
    },
    {
      "cell_type": "code",
      "source": [
        "import pandas as pd\n",
        "import numpy as np\n",
        "from sklearn.preprocessing import StandardScaler\n",
        "from sklearn_extra.cluster import KMedoids\n",
        "from sklearn.metrics import silhouette_score, davies_bouldin_score, calinski_harabasz_score\n",
        "\n",
        "# Load the dataset\n",
        "def load_data(file_path, sheet_name=0):\n",
        "    data = pd.read_excel(file_path)\n",
        "    scaler = StandardScaler()  # Standard scaling\n",
        "    return scaler.fit_transform(data)\n",
        "\n",
        "# Apply K-Medoids clustering\n",
        "def apply_kmedoids(data, n_clusters=2, metric='euclidean'):\n",
        "    kmedoids = KMedoids(n_clusters=n_clusters, metric=metric, random_state=42)\n",
        "    labels = kmedoids.fit_predict(data)\n",
        "    return labels, kmedoids\n",
        "\n",
        "# Evaluate clustering performance using three metrics\n",
        "def evaluate_clustering(data, labels):\n",
        "    if len(set(labels)) > 1:\n",
        "        silhouette = silhouette_score(data, labels)  # Silhouette score\n",
        "        davies_bouldin = davies_bouldin_score(data, labels)  # Davies-Bouldin index\n",
        "        calinski_harabasz = calinski_harabasz_score(data, labels)  # Calinski-Harabasz index\n",
        "    else:\n",
        "        silhouette = -1  # Invalid silhouette score for 1 cluster\n",
        "        davies_bouldin = -1\n",
        "        calinski_harabasz = -1\n",
        "\n",
        "    return silhouette, davies_bouldin, calinski_harabasz\n",
        "\n",
        "# Main function to execute K-Medoids on the loaded data\n",
        "def run_kmedoids_clustering(file_path, sheet_name=0, n_clusters=2, metric='euclidean'):\n",
        "    # Load data\n",
        "    data = load_data(file_path, sheet_name)\n",
        "\n",
        "    # Apply K-Medoids\n",
        "    labels, kmedoids = apply_kmedoids(data, n_clusters=n_clusters, metric=metric)\n",
        "\n",
        "    # Evaluate performance\n",
        "    silhouette, davies_bouldin, calinski_harabasz = evaluate_clustering(data, labels)\n",
        "\n",
        "    # Print results\n",
        "    print(f\"Silhouette Score: {silhouette}\")\n",
        "    print(f\"Davies-Bouldin Index: {davies_bouldin}\")\n",
        "    print(f\"Calinski-Harabasz Index: {calinski_harabasz}\")\n",
        "\n",
        "# Run the K-Medoids clustering using the uploaded Excel file\n",
        "file_path = '/content/Clustering.xlsx'\n",
        "run_kmedoids_clustering(file_path, n_clusters=3, metric='euclidean')\n"
      ],
      "metadata": {
        "colab": {
          "base_uri": "https://localhost:8080/"
        },
        "id": "cmz6q0v0RtYA",
        "outputId": "966919ba-d784-4be9-b667-606e517354e9"
      },
      "execution_count": null,
      "outputs": [
        {
          "output_type": "stream",
          "name": "stdout",
          "text": [
            "Silhouette Score: 0.09612093896312156\n",
            "Davies-Bouldin Index: 2.504190324936832\n",
            "Calinski-Harabasz Index: 8.971676943368463\n"
          ]
        }
      ]
    },
    {
      "cell_type": "markdown",
      "source": [
        "Diagonal Covariance GMM\n",
        "\n"
      ],
      "metadata": {
        "id": "pRZxbMQYRt0B"
      }
    },
    {
      "cell_type": "code",
      "source": [
        "import pandas as pd\n",
        "import numpy as np\n",
        "from sklearn.mixture import GaussianMixture\n",
        "from sklearn.metrics import silhouette_score, davies_bouldin_score, calinski_harabasz_score\n",
        "from sklearn.preprocessing import StandardScaler\n",
        "\n",
        "# Load the dataset\n",
        "def load_data(file_path, sheet_name=0):\n",
        "    data = pd.read_excel(file_path, sheet_name=sheet_name)\n",
        "    scaler = StandardScaler()  # Standard scaling\n",
        "    return scaler.fit_transform(data)\n",
        "\n",
        "# Apply GMM clustering with Diagonal Covariance\n",
        "def apply_gmm(data, n_components=2, covariance_type='diag'):\n",
        "    gmm = GaussianMixture(n_components=n_components, covariance_type=covariance_type)\n",
        "    labels = gmm.fit_predict(data)\n",
        "    return labels, gmm\n",
        "\n",
        "# Evaluate clustering performance using three metrics\n",
        "def evaluate_clustering(data, labels):\n",
        "    if len(set(labels)) > 1:\n",
        "        silhouette = silhouette_score(data, labels)  # Silhouette score\n",
        "        davies_bouldin = davies_bouldin_score(data, labels)  # Davies-Bouldin index\n",
        "        calinski_harabasz = calinski_harabasz_score(data, labels)  # Calinski-Harabasz index\n",
        "    else:\n",
        "        silhouette = -1  # Invalid silhouette score for 1 cluster\n",
        "        davies_bouldin = -1\n",
        "        calinski_harabasz = -1\n",
        "\n",
        "    return silhouette, davies_bouldin, calinski_harabasz\n",
        "\n",
        "# Main function to execute GMM with Diagonal Covariance on the loaded data\n",
        "def run_gmm_clustering(file_path, sheet_name=0, n_components=2, covariance_type='diag'):\n",
        "    # Load data\n",
        "    data = load_data(file_path, sheet_name)\n",
        "\n",
        "    # Apply GMM with Diagonal Covariance\n",
        "    labels, gmm = apply_gmm(data, n_components=n_components, covariance_type=covariance_type)\n",
        "\n",
        "    # Evaluate performance\n",
        "    silhouette, davies_bouldin, calinski_harabasz = evaluate_clustering(data, labels)\n",
        "\n",
        "    # Print results\n",
        "    print(f\"Silhouette Score: {silhouette}\")\n",
        "    print(f\"Davies-Bouldin Index: {davies_bouldin}\")\n",
        "    print(f\"Calinski-Harabasz Index: {calinski_harabasz}\")\n",
        "\n",
        "# Run the GMM clustering using the uploaded Excel file\n",
        "file_path = '/content/Clustering.xlsx'\n",
        "run_gmm_clustering(file_path, n_components=3, covariance_type='diag')\n",
        "\n",
        "\n",
        "\n"
      ],
      "metadata": {
        "colab": {
          "base_uri": "https://localhost:8080/"
        },
        "id": "0hT2Pc_uRuer",
        "outputId": "8ee0ddbb-fd14-4f29-dfd6-10c5532581f2"
      },
      "execution_count": null,
      "outputs": [
        {
          "output_type": "stream",
          "name": "stdout",
          "text": [
            "Silhouette Score: 0.1586559193900669\n",
            "Davies-Bouldin Index: 1.7261342633991292\n",
            "Calinski-Harabasz Index: 8.218669427316195\n"
          ]
        }
      ]
    }
  ]
}