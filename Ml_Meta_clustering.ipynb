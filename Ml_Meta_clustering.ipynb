{
  "nbformat": 4,
  "nbformat_minor": 0,
  "metadata": {
    "colab": {
      "provenance": []
    },
    "kernelspec": {
      "name": "python3",
      "display_name": "Python 3"
    },
    "language_info": {
      "name": "python"
    }
  },
  "cells": [
    {
      "cell_type": "markdown",
      "source": [
        "K-Means Clustering"
      ],
      "metadata": {
        "id": "mizx8T49RpZk"
      }
    },
    {
      "cell_type": "code",
      "execution_count": null,
      "metadata": {
        "colab": {
          "base_uri": "https://localhost:8080/"
        },
        "id": "VxaxCZzsRjMq",
        "outputId": "3db1ce10-279a-470c-917f-9e119d250611"
      },
      "outputs": [
        {
          "output_type": "stream",
          "name": "stdout",
          "text": [
            "Silhouette Score (without standardization): 0.491845569472662\n",
            "Davies-Bouldin Index: 0.7735773995402444\n",
            "Calinski-Harabasz Index: 85.04454109655205\n"
          ]
        }
      ],
      "source": [
        "from sklearn.preprocessing import StandardScaler\n",
        "import pandas as pd\n",
        "from sklearn.cluster import KMeans\n",
        "from sklearn.metrics import silhouette_score, davies_bouldin_score, calinski_harabasz_score\n",
        "import numpy as np\n",
        "from scipy.spatial.distance import pdist, squareform\n",
        "\n",
        "# Load the data\n",
        "def load_data(file_path):\n",
        "    data = pd.read_excel(file_path)\n",
        "    scaler = StandardScaler()  # Standard scaling\n",
        "    return scaler.fit_transform(data)\n",
        "\n",
        "# Apply K-means clustering (without standardization)\n",
        "def apply_kmeans(data, n_clusters=3):\n",
        "    kmeans = KMeans(n_clusters=n_clusters, random_state=42)\n",
        "    kmeans.fit(data)\n",
        "    return kmeans, kmeans.labels_\n",
        "\n",
        "\n",
        "\n",
        "#  Evaluate clustering performance using all metrics\n",
        "def evaluate_clustering(data, kmeans, labels):\n",
        "\n",
        "    silhouette_avg = silhouette_score(data, labels)  # Silhouette score\n",
        "    davies_bouldin = davies_bouldin_score(data, labels)  # Davies-Bouldin index\n",
        "    calinski_harabasz = calinski_harabasz_score(data, labels)  # Calinski-Harabasz index\n",
        "\n",
        "    return  silhouette_avg, davies_bouldin, calinski_harabasz\n",
        "\n",
        "# Main function to run the process\n",
        "def main(file_path, n_clusters):\n",
        "    # Load the data\n",
        "    data = load_data(file_path)\n",
        "\n",
        "    # Apply K-means clustering\n",
        "    kmeans_model, labels = apply_kmeans(data, n_clusters)\n",
        "\n",
        "    # Evaluate performance\n",
        "    silhouette_avg, davies_bouldin, calinski_harabasz = evaluate_clustering(data, kmeans_model, labels)\n",
        "\n",
        "    # Print results\n",
        "    print(f\"Silhouette Score (without standardization): {silhouette_avg}\")\n",
        "    print(f\"Davies-Bouldin Index: {davies_bouldin}\")\n",
        "    print(f\"Calinski-Harabasz Index: {calinski_harabasz}\")\n",
        "\n",
        "# Specify the file path and number of clusters\n",
        "file_path = '/content/labels2.xlsx'\n",
        "n_clusters = 3\n",
        "\n",
        "# Run the main function\n",
        "main(file_path, n_clusters)"
      ]
    },
    {
      "cell_type": "markdown",
      "source": [
        "Hierarchical Clustering(Agglomerative Clustering)"
      ],
      "metadata": {
        "id": "fRfac-UlRqVs"
      }
    },
    {
      "cell_type": "code",
      "source": [
        "import pandas as pd\n",
        "from sklearn.cluster import AgglomerativeClustering\n",
        "from sklearn.metrics import silhouette_score, davies_bouldin_score, calinski_harabasz_score\n",
        "import numpy as np\n",
        "from scipy.spatial.distance import pdist\n",
        "\n",
        "# Module 1: Load the data\n",
        "def load_data(file_path):\n",
        "    data = pd.read_excel(file_path)\n",
        "    scaler = StandardScaler()  # Standard scaling\n",
        "    return scaler.fit_transform(data)\n",
        "\n",
        "# Module 2: Apply Hierarchical (Agglomerative) Clustering\n",
        "def apply_hierarchical_clustering(data, n_clusters=3):\n",
        "    clustering = AgglomerativeClustering(n_clusters=n_clusters)\n",
        "    labels = clustering.fit_predict(data)\n",
        "    return clustering, labels\n",
        "\n",
        "\n",
        "\n",
        "# Module 4: Calculate Centroids for Clusters\n",
        "def calculate_centroids(data, labels):\n",
        "    unique_labels = np.unique(labels)\n",
        "    centroids = np.array([data[labels == label].mean(axis=0) for label in unique_labels])\n",
        "    return centroids\n",
        "\n",
        "\n",
        "# Module 6: Evaluate clustering performance using all metrics\n",
        "def evaluate_clustering(data, labels):\n",
        "    silhouette_avg = silhouette_score(data, labels)  # Silhouette score\n",
        "    davies_bouldin = davies_bouldin_score(data, labels)  # Davies-Bouldin index\n",
        "    calinski_harabasz = calinski_harabasz_score(data, labels)  # Calinski-Harabasz index\n",
        "    centroids = calculate_centroids(data, labels)  # Calculate cluster centroids\n",
        "\n",
        "    return silhouette_avg, davies_bouldin, calinski_harabasz\n",
        "\n",
        "# Main function to run the process\n",
        "def main(file_path, n_clusters):\n",
        "    # Load the data\n",
        "    data = load_data(file_path)\n",
        "\n",
        "    # Apply Hierarchical clustering\n",
        "    clustering_model, labels = apply_hierarchical_clustering(data, n_clusters)\n",
        "\n",
        "    # Evaluate performance\n",
        "    silhouette_avg, davies_bouldin, calinski_harabasz= evaluate_clustering(data, labels)\n",
        "\n",
        "    # Print results\n",
        "    print(f\"Silhouette Score (Hierarchical Clustering): {silhouette_avg}\")\n",
        "    print(f\"Davies-Bouldin Index: {davies_bouldin}\")\n",
        "    print(f\"Calinski-Harabasz Index: {calinski_harabasz}\")\n",
        "\n",
        "\n",
        "# Specify the file path and number of clusters\n",
        "file_path = '/content/labels2.xlsx'\n",
        "n_clusters = 3\n",
        "\n",
        "# Run the main function\n",
        "main(file_path, n_clusters)"
      ],
      "metadata": {
        "colab": {
          "base_uri": "https://localhost:8080/"
        },
        "id": "6lzkRHSQRp9Y",
        "outputId": "237f1ced-b6de-4a18-b33e-8233b210e6d4"
      },
      "execution_count": null,
      "outputs": [
        {
          "output_type": "stream",
          "name": "stdout",
          "text": [
            "Silhouette Score (Hierarchical Clustering): 0.4858844159845584\n",
            "Davies-Bouldin Index: 0.6959735397655115\n",
            "Calinski-Harabasz Index: 66.85866975012894\n"
          ]
        }
      ]
    },
    {
      "cell_type": "markdown",
      "source": [
        "Gaussian Mixture Models (GMM)"
      ],
      "metadata": {
        "id": "weKj8vhLRrZx"
      }
    },
    {
      "cell_type": "code",
      "source": [
        "import pandas as pd\n",
        "import numpy as np\n",
        "from sklearn.mixture import GaussianMixture\n",
        "from sklearn.metrics import silhouette_score, davies_bouldin_score, calinski_harabasz_score\n",
        "\n",
        "# Load the dataset\n",
        "def load_data(file_path, sheet_name=0):\n",
        "    data = pd.read_excel(file_path)\n",
        "    scaler = StandardScaler()  # Standard scaling\n",
        "    return scaler.fit_transform(data)\n",
        "\n",
        "# Apply GMM clustering\n",
        "def apply_gmm(data, n_components=2, covariance_type='full'):\n",
        "    gmm = GaussianMixture(n_components=n_components, covariance_type=covariance_type)\n",
        "    labels = gmm.fit_predict(data)\n",
        "    return labels, gmm\n",
        "\n",
        "# Evaluate clustering performance using three metrics\n",
        "def evaluate_clustering(data, labels):\n",
        "    if len(set(labels)) > 1:\n",
        "        silhouette = silhouette_score(data, labels)  # Silhouette score\n",
        "        davies_bouldin = davies_bouldin_score(data, labels)  # Davies-Bouldin index\n",
        "        calinski_harabasz = calinski_harabasz_score(data, labels)  # Calinski-Harabasz index\n",
        "    else:\n",
        "        silhouette = -1  # Invalid silhouette score for 1 cluster\n",
        "        davies_bouldin = -1\n",
        "        calinski_harabasz = -1\n",
        "\n",
        "    return silhouette, davies_bouldin, calinski_harabasz\n",
        "\n",
        "# Main function to execute GMM on the loaded data\n",
        "def run_gmm_clustering(file_path, sheet_name=0, n_components=2, covariance_type='full'):\n",
        "    # Load data\n",
        "    data = load_data(file_path, sheet_name)\n",
        "\n",
        "\n",
        "    # Apply GMM\n",
        "    labels, gmm = apply_gmm(data, n_components=n_components, covariance_type=covariance_type)\n",
        "\n",
        "    # Evaluate performance\n",
        "    silhouette, davies_bouldin, calinski_harabasz = evaluate_clustering(data, labels)\n",
        "\n",
        "    # Print results\n",
        "    print(f\"Silhouette Score: {silhouette}\")\n",
        "    print(f\"Davies-Bouldin Index: {davies_bouldin}\")\n",
        "    print(f\"Calinski-Harabasz Index: {calinski_harabasz}\")\n",
        "\n",
        "# Run the GMM clustering using the uploaded Excel file\n",
        "file_path = '/content/labels2.xlsx'\n",
        "run_gmm_clustering(file_path, n_components=3, covariance_type='full')"
      ],
      "metadata": {
        "colab": {
          "base_uri": "https://localhost:8080/"
        },
        "id": "kAVQEksxRq8Q",
        "outputId": "94d80944-c805-4c0b-b434-647da1dcfe20"
      },
      "execution_count": null,
      "outputs": [
        {
          "output_type": "stream",
          "name": "stdout",
          "text": [
            "Silhouette Score: 0.41937219155744565\n",
            "Davies-Bouldin Index: 1.0196791831162377\n",
            "Calinski-Harabasz Index: 72.4993415269381\n"
          ]
        }
      ]
    },
    {
      "cell_type": "code",
      "source": [
        "!pip install scikit-learn-extra\n"
      ],
      "metadata": {
        "colab": {
          "base_uri": "https://localhost:8080/"
        },
        "id": "b29U5v-TT-Hl",
        "outputId": "e652e87c-4321-4f4f-e8e5-954934fb72eb"
      },
      "execution_count": null,
      "outputs": [
        {
          "output_type": "stream",
          "name": "stdout",
          "text": [
            "Collecting scikit-learn-extra\n",
            "  Downloading scikit_learn_extra-0.3.0-cp310-cp310-manylinux_2_17_x86_64.manylinux2014_x86_64.whl.metadata (3.6 kB)\n",
            "Requirement already satisfied: numpy>=1.13.3 in /usr/local/lib/python3.10/dist-packages (from scikit-learn-extra) (1.26.4)\n",
            "Requirement already satisfied: scipy>=0.19.1 in /usr/local/lib/python3.10/dist-packages (from scikit-learn-extra) (1.13.1)\n",
            "Requirement already satisfied: scikit-learn>=0.23.0 in /usr/local/lib/python3.10/dist-packages (from scikit-learn-extra) (1.5.2)\n",
            "Requirement already satisfied: joblib>=1.2.0 in /usr/local/lib/python3.10/dist-packages (from scikit-learn>=0.23.0->scikit-learn-extra) (1.4.2)\n",
            "Requirement already satisfied: threadpoolctl>=3.1.0 in /usr/local/lib/python3.10/dist-packages (from scikit-learn>=0.23.0->scikit-learn-extra) (3.5.0)\n",
            "Downloading scikit_learn_extra-0.3.0-cp310-cp310-manylinux_2_17_x86_64.manylinux2014_x86_64.whl (2.0 MB)\n",
            "\u001b[2K   \u001b[90m━━━━━━━━━━━━━━━━━━━━━━━━━━━━━━━━━━━━━━━━\u001b[0m \u001b[32m2.0/2.0 MB\u001b[0m \u001b[31m14.5 MB/s\u001b[0m eta \u001b[36m0:00:00\u001b[0m\n",
            "\u001b[?25hInstalling collected packages: scikit-learn-extra\n",
            "Successfully installed scikit-learn-extra-0.3.0\n"
          ]
        }
      ]
    },
    {
      "cell_type": "markdown",
      "source": [
        "K-Medoids Clustering"
      ],
      "metadata": {
        "id": "UjZHrqMIRs4u"
      }
    },
    {
      "cell_type": "code",
      "source": [
        "import pandas as pd\n",
        "import numpy as np\n",
        "from sklearn.preprocessing import StandardScaler\n",
        "from sklearn_extra.cluster import KMedoids\n",
        "from sklearn.metrics import silhouette_score, davies_bouldin_score, calinski_harabasz_score\n",
        "\n",
        "# Load the dataset\n",
        "def load_data(file_path, sheet_name=0):\n",
        "    data = pd.read_excel(file_path)\n",
        "    scaler = StandardScaler()  # Standard scaling\n",
        "    return scaler.fit_transform(data)\n",
        "\n",
        "# Apply K-Medoids clustering\n",
        "def apply_kmedoids(data, n_clusters=2, metric='euclidean'):\n",
        "    kmedoids = KMedoids(n_clusters=n_clusters, metric=metric, random_state=42)\n",
        "    labels = kmedoids.fit_predict(data)\n",
        "    return labels, kmedoids\n",
        "\n",
        "# Evaluate clustering performance using three metrics\n",
        "def evaluate_clustering(data, labels):\n",
        "    if len(set(labels)) > 1:\n",
        "        silhouette = silhouette_score(data, labels)  # Silhouette score\n",
        "        davies_bouldin = davies_bouldin_score(data, labels)  # Davies-Bouldin index\n",
        "        calinski_harabasz = calinski_harabasz_score(data, labels)  # Calinski-Harabasz index\n",
        "    else:\n",
        "        silhouette = -1  # Invalid silhouette score for 1 cluster\n",
        "        davies_bouldin = -1\n",
        "        calinski_harabasz = -1\n",
        "\n",
        "    return silhouette, davies_bouldin, calinski_harabasz\n",
        "\n",
        "# Main function to execute K-Medoids on the loaded data\n",
        "def run_kmedoids_clustering(file_path, sheet_name=0, n_clusters=2, metric='euclidean'):\n",
        "    # Load data\n",
        "    data = load_data(file_path, sheet_name)\n",
        "\n",
        "    # Apply K-Medoids\n",
        "    labels, kmedoids = apply_kmedoids(data, n_clusters=n_clusters, metric=metric)\n",
        "\n",
        "    # Evaluate performance\n",
        "    silhouette, davies_bouldin, calinski_harabasz = evaluate_clustering(data, labels)\n",
        "\n",
        "    # Print results\n",
        "    print(f\"Silhouette Score: {silhouette}\")\n",
        "    print(f\"Davies-Bouldin Index: {davies_bouldin}\")\n",
        "    print(f\"Calinski-Harabasz Index: {calinski_harabasz}\")\n",
        "\n",
        "# Run the K-Medoids clustering using the uploaded Excel file\n",
        "file_path = '/content/labels2.xlsx'\n",
        "run_kmedoids_clustering(file_path, n_clusters=3, metric='euclidean')\n"
      ],
      "metadata": {
        "colab": {
          "base_uri": "https://localhost:8080/"
        },
        "id": "cmz6q0v0RtYA",
        "outputId": "696dff55-5ff2-4f50-fa96-4b50de001229"
      },
      "execution_count": null,
      "outputs": [
        {
          "output_type": "stream",
          "name": "stdout",
          "text": [
            "Silhouette Score: -1\n",
            "Davies-Bouldin Index: -1\n",
            "Calinski-Harabasz Index: -1\n"
          ]
        },
        {
          "output_type": "stream",
          "name": "stderr",
          "text": [
            "/usr/local/lib/python3.10/dist-packages/sklearn_extra/cluster/_k_medoids.py:329: UserWarning: Cluster 1 is empty! self.labels_[self.medoid_indices_[1]] may not be labeled with its corresponding cluster (1).\n",
            "  warnings.warn(\n",
            "/usr/local/lib/python3.10/dist-packages/sklearn_extra/cluster/_k_medoids.py:329: UserWarning: Cluster 2 is empty! self.labels_[self.medoid_indices_[2]] may not be labeled with its corresponding cluster (2).\n",
            "  warnings.warn(\n"
          ]
        }
      ]
    },
    {
      "cell_type": "markdown",
      "source": [
        "Diagonal Covariance GMM\n",
        "\n"
      ],
      "metadata": {
        "id": "pRZxbMQYRt0B"
      }
    },
    {
      "cell_type": "code",
      "source": [
        "import pandas as pd\n",
        "import numpy as np\n",
        "from sklearn.mixture import GaussianMixture\n",
        "from sklearn.metrics import silhouette_score, davies_bouldin_score, calinski_harabasz_score\n",
        "from sklearn.preprocessing import StandardScaler\n",
        "\n",
        "# Load the dataset\n",
        "def load_data(file_path, sheet_name=0):\n",
        "    data = pd.read_excel(file_path, sheet_name=sheet_name)\n",
        "    scaler = StandardScaler()  # Standard scaling\n",
        "    return scaler.fit_transform(data)\n",
        "\n",
        "# Apply GMM clustering with Diagonal Covariance\n",
        "def apply_gmm(data, n_components=2, covariance_type='diag'):\n",
        "    gmm = GaussianMixture(n_components=n_components, covariance_type=covariance_type)\n",
        "    labels = gmm.fit_predict(data)\n",
        "    return labels, gmm\n",
        "\n",
        "# Evaluate clustering performance using three metrics\n",
        "def evaluate_clustering(data, labels):\n",
        "    if len(set(labels)) > 1:\n",
        "        silhouette = silhouette_score(data, labels)  # Silhouette score\n",
        "        davies_bouldin = davies_bouldin_score(data, labels)  # Davies-Bouldin index\n",
        "        calinski_harabasz = calinski_harabasz_score(data, labels)  # Calinski-Harabasz index\n",
        "    else:\n",
        "        silhouette = -1  # Invalid silhouette score for 1 cluster\n",
        "        davies_bouldin = -1\n",
        "        calinski_harabasz = -1\n",
        "\n",
        "    return silhouette, davies_bouldin, calinski_harabasz\n",
        "\n",
        "# Main function to execute GMM with Diagonal Covariance on the loaded data\n",
        "def run_gmm_clustering(file_path, sheet_name=0, n_components=2, covariance_type='diag'):\n",
        "    # Load data\n",
        "    data = load_data(file_path, sheet_name)\n",
        "\n",
        "    # Apply GMM with Diagonal Covariance\n",
        "    labels, gmm = apply_gmm(data, n_components=n_components, covariance_type=covariance_type)\n",
        "\n",
        "    # Evaluate performance\n",
        "    silhouette, davies_bouldin, calinski_harabasz = evaluate_clustering(data, labels)\n",
        "\n",
        "    # Print results\n",
        "    print(f\"Silhouette Score: {silhouette}\")\n",
        "    print(f\"Davies-Bouldin Index: {davies_bouldin}\")\n",
        "    print(f\"Calinski-Harabasz Index: {calinski_harabasz}\")\n",
        "\n",
        "# Run the GMM clustering using the uploaded Excel file\n",
        "file_path = '/content/labels2.xlsx'\n",
        "run_gmm_clustering(file_path, n_components=3, covariance_type='diag')\n",
        "\n",
        "\n",
        "\n"
      ],
      "metadata": {
        "colab": {
          "base_uri": "https://localhost:8080/"
        },
        "id": "0hT2Pc_uRuer",
        "outputId": "7d8d52bc-3112-4911-a361-4e35eee641f8"
      },
      "execution_count": null,
      "outputs": [
        {
          "output_type": "stream",
          "name": "stdout",
          "text": [
            "Silhouette Score: 0.4237725054190832\n",
            "Davies-Bouldin Index: 0.7185499008968916\n",
            "Calinski-Harabasz Index: 65.66553280947187\n"
          ]
        }
      ]
    }
  ]
}