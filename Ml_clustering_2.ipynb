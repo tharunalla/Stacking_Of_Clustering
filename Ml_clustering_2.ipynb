{
  "nbformat": 4,
  "nbformat_minor": 0,
  "metadata": {
    "colab": {
      "provenance": []
    },
    "kernelspec": {
      "name": "python3",
      "display_name": "Python 3"
    },
    "language_info": {
      "name": "python"
    }
  },
  "cells": [
    {
      "cell_type": "markdown",
      "source": [
        "Applying grid search on algorithms."
      ],
      "metadata": {
        "id": "eq4qPpcgUktC"
      }
    },
    {
      "cell_type": "markdown",
      "source": [
        "K-Means Clustering"
      ],
      "metadata": {
        "id": "syYs5_MhUtCg"
      }
    },
    {
      "cell_type": "code",
      "execution_count": null,
      "metadata": {
        "colab": {
          "base_uri": "https://localhost:8080/"
        },
        "id": "pOyzAm31UgJF",
        "outputId": "34779b64-06e3-40a9-ae7b-b50f3f6040f7"
      },
      "outputs": [
        {
          "output_type": "stream",
          "name": "stdout",
          "text": [
            "Best K-Means k: 10 with score: 0.467545870178972\n"
          ]
        }
      ],
      "source": [
        "from sklearn.preprocessing import StandardScaler\n",
        "import pandas as pd\n",
        "from sklearn.cluster import KMeans\n",
        "from sklearn.metrics import silhouette_score\n",
        "\n",
        "# Load the dataset\n",
        "def load_data(file_path):\n",
        "    data = pd.read_excel(file_path)\n",
        "    scaler = StandardScaler()  # Standard scaling\n",
        "    return scaler.fit_transform(data)\n",
        "\n",
        "# Grid Search for K-Means\n",
        "def grid_search_kmeans(data, cluster_range):\n",
        "    best_score = -1\n",
        "    best_k = None\n",
        "    for k in cluster_range:\n",
        "        kmeans = KMeans(n_clusters=k, random_state=42)\n",
        "        labels = kmeans.fit_predict(data)\n",
        "        silhouette = silhouette_score(data, labels)\n",
        "        if silhouette > best_score:\n",
        "            best_score = silhouette\n",
        "            best_k = k\n",
        "    return best_k, best_score\n",
        "\n",
        "# Main function to execute K-Means with Grid Search\n",
        "def run_kmeans_clustering(file_path):\n",
        "    data = load_data(file_path)\n",
        "    cluster_range = range(2, 11)  # Testing k from 2 to 10\n",
        "    best_k, best_score = grid_search_kmeans(data, cluster_range)\n",
        "    print(f\"Best K-Means k: {best_k} with score: {best_score}\")\n",
        "\n",
        "# Run the K-Means clustering\n",
        "file_path = '/content/Clustering.xlsx'\n",
        "run_kmeans_clustering(file_path)"
      ]
    },
    {
      "cell_type": "markdown",
      "source": [
        "Gaussian Mixture Model (GMM)"
      ],
      "metadata": {
        "id": "jMRyffxYU4CN"
      }
    },
    {
      "cell_type": "code",
      "source": [
        "import pandas as pd\n",
        "from sklearn.mixture import GaussianMixture\n",
        "from sklearn.metrics import silhouette_score\n",
        "\n",
        "# Load the dataset\n",
        "def load_data(file_path):\n",
        "    data = pd.read_excel(file_path)\n",
        "    scaler = StandardScaler()  # Standard scaling\n",
        "    return scaler.fit_transform(data)\n",
        "\n",
        "# Grid Search for GMM\n",
        "def grid_search_gmm(data, cluster_range):\n",
        "    best_score = -1\n",
        "    best_k = None\n",
        "    for k in cluster_range:\n",
        "        gmm = GaussianMixture(n_components=k, covariance_type='full', random_state=42)\n",
        "        labels = gmm.fit_predict(data)\n",
        "        silhouette = silhouette_score(data, labels)\n",
        "        if silhouette > best_score:\n",
        "            best_score = silhouette\n",
        "            best_k = k\n",
        "    return best_k, best_score\n",
        "\n",
        "# Main function to execute GMM with Grid Search\n",
        "def run_gmm_clustering(file_path):\n",
        "    data = load_data(file_path)\n",
        "    cluster_range = range(2, 11)  # Testing k from 2 to 10\n",
        "    best_k, best_score = grid_search_gmm(data, cluster_range)\n",
        "    print(f\"Best GMM k: {best_k} with score: {best_score}\")\n",
        "\n",
        "# Run the GMM clustering\n",
        "file_path = '/content/Clustering.xlsx'\n",
        "run_gmm_clustering(file_path)"
      ],
      "metadata": {
        "colab": {
          "base_uri": "https://localhost:8080/"
        },
        "id": "kOFbQ8wAU9Iq",
        "outputId": "1c8cb0d5-546c-4a7a-b437-cb46d777a827"
      },
      "execution_count": null,
      "outputs": [
        {
          "output_type": "stream",
          "name": "stdout",
          "text": [
            "Best GMM k: 10 with score: 0.467545870178972\n"
          ]
        }
      ]
    },
    {
      "cell_type": "markdown",
      "source": [
        "Hierarchical Clustering\n"
      ],
      "metadata": {
        "id": "Q7dacc5MVBLL"
      }
    },
    {
      "cell_type": "code",
      "source": [
        "import pandas as pd\n",
        "from sklearn.cluster import AgglomerativeClustering\n",
        "from sklearn.metrics import silhouette_score\n",
        "\n",
        "# Load the dataset\n",
        "def load_data(file_path):\n",
        "    data = pd.read_excel(file_path)\n",
        "    scaler = StandardScaler()  # Standard scaling\n",
        "    return scaler.fit_transform(data)\n",
        "\n",
        "# Grid Search for Hierarchical Clustering\n",
        "def grid_search_hierarchical(data, cluster_range):\n",
        "    best_score = -1\n",
        "    best_k = None\n",
        "    for k in cluster_range:\n",
        "        hierarchical = AgglomerativeClustering(n_clusters=k)\n",
        "        labels = hierarchical.fit_predict(data)\n",
        "        silhouette = silhouette_score(data, labels)\n",
        "        if silhouette > best_score:\n",
        "            best_score = silhouette\n",
        "            best_k = k\n",
        "    return best_k, best_score\n",
        "\n",
        "# Main function to execute Hierarchical Clustering with Grid Search\n",
        "def run_hierarchical_clustering(file_path):\n",
        "    data = load_data(file_path)\n",
        "    cluster_range = range(2, 11)  # Testing k from 2 to 10\n",
        "    best_k, best_score = grid_search_hierarchical(data, cluster_range)\n",
        "    print(f\"Best Hierarchical k: {best_k} with score: {best_score}\")\n",
        "\n",
        "# Run the Hierarchical clustering\n",
        "file_path = '/content/Clustering.xlsx'\n",
        "run_hierarchical_clustering(file_path)"
      ],
      "metadata": {
        "colab": {
          "base_uri": "https://localhost:8080/"
        },
        "id": "Wqq0EZqkVBlR",
        "outputId": "5098ece9-cdb6-401f-982f-ff7bd9256935"
      },
      "execution_count": null,
      "outputs": [
        {
          "output_type": "stream",
          "name": "stdout",
          "text": [
            "Best Hierarchical k: 10 with score: 0.470212995417494\n"
          ]
        }
      ]
    },
    {
      "cell_type": "code",
      "source": [
        "!pip install scikit-learn-extra"
      ],
      "metadata": {
        "colab": {
          "base_uri": "https://localhost:8080/"
        },
        "id": "u9F8QAk8VTGV",
        "outputId": "44385487-955c-4ccf-97ef-29edf93764d7"
      },
      "execution_count": null,
      "outputs": [
        {
          "output_type": "stream",
          "name": "stdout",
          "text": [
            "Collecting scikit-learn-extra\n",
            "  Downloading scikit_learn_extra-0.3.0-cp310-cp310-manylinux_2_17_x86_64.manylinux2014_x86_64.whl.metadata (3.6 kB)\n",
            "Requirement already satisfied: numpy>=1.13.3 in /usr/local/lib/python3.10/dist-packages (from scikit-learn-extra) (1.26.4)\n",
            "Requirement already satisfied: scipy>=0.19.1 in /usr/local/lib/python3.10/dist-packages (from scikit-learn-extra) (1.13.1)\n",
            "Requirement already satisfied: scikit-learn>=0.23.0 in /usr/local/lib/python3.10/dist-packages (from scikit-learn-extra) (1.5.2)\n",
            "Requirement already satisfied: joblib>=1.2.0 in /usr/local/lib/python3.10/dist-packages (from scikit-learn>=0.23.0->scikit-learn-extra) (1.4.2)\n",
            "Requirement already satisfied: threadpoolctl>=3.1.0 in /usr/local/lib/python3.10/dist-packages (from scikit-learn>=0.23.0->scikit-learn-extra) (3.5.0)\n",
            "Downloading scikit_learn_extra-0.3.0-cp310-cp310-manylinux_2_17_x86_64.manylinux2014_x86_64.whl (2.0 MB)\n",
            "\u001b[?25l   \u001b[90m━━━━━━━━━━━━━━━━━━━━━━━━━━━━━━━━━━━━━━━━\u001b[0m \u001b[32m0.0/2.0 MB\u001b[0m \u001b[31m?\u001b[0m eta \u001b[36m-:--:--\u001b[0m\r\u001b[2K   \u001b[91m━━━━━━\u001b[0m\u001b[91m╸\u001b[0m\u001b[90m━━━━━━━━━━━━━━━━━━━━━━━━━━━━━━━━━\u001b[0m \u001b[32m0.3/2.0 MB\u001b[0m \u001b[31m10.2 MB/s\u001b[0m eta \u001b[36m0:00:01\u001b[0m\r\u001b[2K   \u001b[90m━━━━━━━━━━━━━━━━━━━━━━━━━━━━━━━━━━━━━━━━\u001b[0m \u001b[32m2.0/2.0 MB\u001b[0m \u001b[31m29.5 MB/s\u001b[0m eta \u001b[36m0:00:00\u001b[0m\n",
            "\u001b[?25hInstalling collected packages: scikit-learn-extra\n",
            "Successfully installed scikit-learn-extra-0.3.0\n"
          ]
        }
      ]
    },
    {
      "cell_type": "markdown",
      "source": [
        "K-Medoids Clustering"
      ],
      "metadata": {
        "id": "C3A6wqn1VNu4"
      }
    },
    {
      "cell_type": "code",
      "source": [
        "import pandas as pd\n",
        "from sklearn.preprocessing import StandardScaler\n",
        "from sklearn_extra.cluster import KMedoids\n",
        "from sklearn.metrics import silhouette_score\n",
        "\n",
        "# Load the dataset\n",
        "def load_data(file_path):\n",
        "    data = pd.read_excel(file_path)\n",
        "    scaler = StandardScaler()  # Standard scaling\n",
        "    return scaler.fit_transform(data)\n",
        "\n",
        "# Grid Search for K-Medoids\n",
        "def grid_search_kmedoids(data, cluster_range, metric='euclidean'):\n",
        "    best_score = -1\n",
        "    best_k = None\n",
        "    for k in cluster_range:\n",
        "        kmedoids = KMedoids(n_clusters=k, metric=metric, random_state=42)\n",
        "        labels = kmedoids.fit_predict(data)\n",
        "        silhouette = silhouette_score(data, labels)\n",
        "        if silhouette > best_score:\n",
        "            best_score = silhouette\n",
        "            best_k = k\n",
        "    return best_k, best_score\n",
        "\n",
        "# Main function to execute K-Medoids with Grid Search\n",
        "def run_kmedoids_clustering(file_path):\n",
        "    data = load_data(file_path)\n",
        "    cluster_range = range(2, 11)  # Testing k from 2 to 10\n",
        "    best_k, best_score = grid_search_kmedoids(data, cluster_range)\n",
        "    print(f\"Best K-Medoids k: {best_k} with score: {best_score}\")\n",
        "\n",
        "# Run the K-Medoids clustering\n",
        "file_path = '/content/Clustering.xlsx'\n",
        "run_kmedoids_clustering(file_path)\n"
      ],
      "metadata": {
        "colab": {
          "base_uri": "https://localhost:8080/"
        },
        "id": "KPnFxyaYVYXW",
        "outputId": "d5f6dfb7-6ad0-4a93-ce1a-4f3c4e29d7d8"
      },
      "execution_count": null,
      "outputs": [
        {
          "output_type": "stream",
          "name": "stdout",
          "text": [
            "Best K-Medoids k: 8 with score: 0.28367153714607446\n"
          ]
        }
      ]
    },
    {
      "cell_type": "markdown",
      "source": [
        "Diagonal Covariance GMM"
      ],
      "metadata": {
        "id": "62HeCZ6vVs4I"
      }
    },
    {
      "cell_type": "code",
      "source": [
        "import pandas as pd\n",
        "from sklearn.mixture import GaussianMixture\n",
        "from sklearn.metrics import silhouette_score\n",
        "\n",
        "# Load the dataset\n",
        "def load_data(file_path):\n",
        "    data = pd.read_excel(file_path)\n",
        "    scaler = StandardScaler()  # Standard scaling\n",
        "    return scaler.fit_transform(data)\n",
        "\n",
        "# Grid Search for GMM\n",
        "def grid_search_gmm(data, cluster_range):\n",
        "    best_score = -1\n",
        "    best_k = None\n",
        "    for k in cluster_range:\n",
        "        gmm = GaussianMixture(n_components=k, covariance_type='diag', random_state=42)\n",
        "        labels = gmm.fit_predict(data)\n",
        "        silhouette = silhouette_score(data, labels)\n",
        "        if silhouette > best_score:\n",
        "            best_score = silhouette\n",
        "            best_k = k\n",
        "    return best_k, best_score\n",
        "\n",
        "# Main function to execute GMM with Grid Search\n",
        "def run_gmm_clustering(file_path):\n",
        "    data = load_data(file_path)\n",
        "    cluster_range = range(2, 11)  # Testing k from 2 to 10\n",
        "    best_k, best_score = grid_search_gmm(data, cluster_range)\n",
        "    print(f\"Best GMM k: {best_k} with score: {best_score}\")\n",
        "\n",
        "# Run the GMM clustering\n",
        "file_path = '/content/Clustering.xlsx'\n",
        "run_gmm_clustering(file_path)\n",
        "\n",
        "\n",
        "\n",
        "\n"
      ],
      "metadata": {
        "colab": {
          "base_uri": "https://localhost:8080/"
        },
        "id": "spQAduzpVwJH",
        "outputId": "90628424-b04e-4ef6-bd45-2b38d0bc311c"
      },
      "execution_count": null,
      "outputs": [
        {
          "output_type": "stream",
          "name": "stdout",
          "text": [
            "Best GMM k: 10 with score: 0.467545870178972\n"
          ]
        }
      ]
    }
  ]
}