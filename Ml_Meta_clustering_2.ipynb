{
  "nbformat": 4,
  "nbformat_minor": 0,
  "metadata": {
    "colab": {
      "provenance": []
    },
    "kernelspec": {
      "name": "python3",
      "display_name": "Python 3"
    },
    "language_info": {
      "name": "python"
    }
  },
  "cells": [
    {
      "cell_type": "markdown",
      "source": [
        "Applying grid search on algorithms."
      ],
      "metadata": {
        "id": "eq4qPpcgUktC"
      }
    },
    {
      "cell_type": "markdown",
      "source": [
        "K-Means Clustering"
      ],
      "metadata": {
        "id": "syYs5_MhUtCg"
      }
    },
    {
      "cell_type": "code",
      "execution_count": null,
      "metadata": {
        "colab": {
          "base_uri": "https://localhost:8080/"
        },
        "id": "pOyzAm31UgJF",
        "outputId": "4051cd2b-f339-4c21-b8ba-c346fb66fd6e"
      },
      "outputs": [
        {
          "output_type": "stream",
          "name": "stdout",
          "text": [
            "Best K-Means k: 10 with score: 0.9049649294173752\n"
          ]
        }
      ],
      "source": [
        "from sklearn.preprocessing import StandardScaler\n",
        "import pandas as pd\n",
        "from sklearn.cluster import KMeans\n",
        "from sklearn.metrics import silhouette_score\n",
        "\n",
        "# Load the dataset\n",
        "def load_data(file_path):\n",
        "    data = pd.read_excel(file_path)\n",
        "    scaler = StandardScaler()  # Standard scaling\n",
        "    return scaler.fit_transform(data)\n",
        "\n",
        "# Grid Search for K-Means\n",
        "def grid_search_kmeans(data, cluster_range):\n",
        "    best_score = -1\n",
        "    best_k = None\n",
        "    for k in cluster_range:\n",
        "        kmeans = KMeans(n_clusters=k, random_state=42)\n",
        "        labels = kmeans.fit_predict(data)\n",
        "        silhouette = silhouette_score(data, labels)\n",
        "        if silhouette > best_score:\n",
        "            best_score = silhouette\n",
        "            best_k = k\n",
        "    return best_k, best_score\n",
        "\n",
        "# Main function to execute K-Means with Grid Search\n",
        "def run_kmeans_clustering(file_path):\n",
        "    data = load_data(file_path)\n",
        "    cluster_range = range(2, 11)  # Testing k from 2 to 10\n",
        "    best_k, best_score = grid_search_kmeans(data, cluster_range)\n",
        "    print(f\"Best K-Means k: {best_k} with score: {best_score}\")\n",
        "\n",
        "# Run the K-Means clustering\n",
        "file_path = '/content/labels2.xlsx'\n",
        "run_kmeans_clustering(file_path)"
      ]
    },
    {
      "cell_type": "markdown",
      "source": [
        "Gaussian Mixture Model (GMM)"
      ],
      "metadata": {
        "id": "jMRyffxYU4CN"
      }
    },
    {
      "cell_type": "code",
      "source": [
        "import pandas as pd\n",
        "from sklearn.mixture import GaussianMixture\n",
        "from sklearn.metrics import silhouette_score\n",
        "\n",
        "# Load the dataset\n",
        "def load_data(file_path):\n",
        "    data = pd.read_excel(file_path)\n",
        "    scaler = StandardScaler()  # Standard scaling\n",
        "    return scaler.fit_transform(data)\n",
        "\n",
        "# Grid Search for GMM\n",
        "def grid_search_gmm(data, cluster_range):\n",
        "    best_score = -1\n",
        "    best_k = None\n",
        "    for k in cluster_range:\n",
        "        gmm = GaussianMixture(n_components=k, covariance_type='full', random_state=42)\n",
        "        labels = gmm.fit_predict(data)\n",
        "        silhouette = silhouette_score(data, labels)\n",
        "        if silhouette > best_score:\n",
        "            best_score = silhouette\n",
        "            best_k = k\n",
        "    return best_k, best_score\n",
        "\n",
        "# Main function to execute GMM with Grid Search\n",
        "def run_gmm_clustering(file_path):\n",
        "    data = load_data(file_path)\n",
        "    cluster_range = range(2, 11)  # Testing k from 2 to 10\n",
        "    best_k, best_score = grid_search_gmm(data, cluster_range)\n",
        "    print(f\"Best GMM k: {best_k} with score: {best_score}\")\n",
        "\n",
        "# Run the GMM clustering\n",
        "file_path = '/content/labels2.xlsx'\n",
        "run_gmm_clustering(file_path)"
      ],
      "metadata": {
        "colab": {
          "base_uri": "https://localhost:8080/"
        },
        "id": "kOFbQ8wAU9Iq",
        "outputId": "033afa3e-6a3b-418f-c065-fc614a1eefee"
      },
      "execution_count": null,
      "outputs": [
        {
          "output_type": "stream",
          "name": "stdout",
          "text": [
            "Best GMM k: 10 with score: 0.9049649294173752\n"
          ]
        }
      ]
    },
    {
      "cell_type": "markdown",
      "source": [
        "Hierarchical Clustering\n"
      ],
      "metadata": {
        "id": "Q7dacc5MVBLL"
      }
    },
    {
      "cell_type": "code",
      "source": [
        "import pandas as pd\n",
        "from sklearn.cluster import AgglomerativeClustering\n",
        "from sklearn.metrics import silhouette_score\n",
        "\n",
        "# Load the dataset\n",
        "def load_data(file_path):\n",
        "    data = pd.read_excel(file_path)\n",
        "    scaler = StandardScaler()  # Standard scaling\n",
        "    return scaler.fit_transform(data)\n",
        "\n",
        "# Grid Search for Hierarchical Clustering\n",
        "def grid_search_hierarchical(data, cluster_range):\n",
        "    best_score = -1\n",
        "    best_k = None\n",
        "    for k in cluster_range:\n",
        "        hierarchical = AgglomerativeClustering(n_clusters=k)\n",
        "        labels = hierarchical.fit_predict(data)\n",
        "        silhouette = silhouette_score(data, labels)\n",
        "        if silhouette > best_score:\n",
        "            best_score = silhouette\n",
        "            best_k = k\n",
        "    return best_k, best_score\n",
        "\n",
        "# Main function to execute Hierarchical Clustering with Grid Search\n",
        "def run_hierarchical_clustering(file_path):\n",
        "    data = load_data(file_path)\n",
        "    cluster_range = range(2, 11)  # Testing k from 2 to 10\n",
        "    best_k, best_score = grid_search_hierarchical(data, cluster_range)\n",
        "    print(f\"Best Hierarchical k: {best_k} with score: {best_score}\")\n",
        "\n",
        "# Run the Hierarchical clustering\n",
        "file_path = '/content/labels2.xlsx'\n",
        "run_hierarchical_clustering(file_path)"
      ],
      "metadata": {
        "colab": {
          "base_uri": "https://localhost:8080/"
        },
        "id": "Wqq0EZqkVBlR",
        "outputId": "9b7feca8-9219-475f-b370-128e231ff48c"
      },
      "execution_count": null,
      "outputs": [
        {
          "output_type": "stream",
          "name": "stdout",
          "text": [
            "Best Hierarchical k: 10 with score: 0.9049649294173752\n"
          ]
        }
      ]
    },
    {
      "cell_type": "code",
      "source": [
        "!pip install scikit-learn-extra"
      ],
      "metadata": {
        "colab": {
          "base_uri": "https://localhost:8080/"
        },
        "id": "u9F8QAk8VTGV",
        "outputId": "ae5ae3ad-c872-4033-c1e4-e7da3dc3488d"
      },
      "execution_count": null,
      "outputs": [
        {
          "output_type": "stream",
          "name": "stdout",
          "text": [
            "Collecting scikit-learn-extra\n",
            "  Downloading scikit_learn_extra-0.3.0-cp310-cp310-manylinux_2_17_x86_64.manylinux2014_x86_64.whl.metadata (3.6 kB)\n",
            "Requirement already satisfied: numpy>=1.13.3 in /usr/local/lib/python3.10/dist-packages (from scikit-learn-extra) (1.26.4)\n",
            "Requirement already satisfied: scipy>=0.19.1 in /usr/local/lib/python3.10/dist-packages (from scikit-learn-extra) (1.13.1)\n",
            "Requirement already satisfied: scikit-learn>=0.23.0 in /usr/local/lib/python3.10/dist-packages (from scikit-learn-extra) (1.5.2)\n",
            "Requirement already satisfied: joblib>=1.2.0 in /usr/local/lib/python3.10/dist-packages (from scikit-learn>=0.23.0->scikit-learn-extra) (1.4.2)\n",
            "Requirement already satisfied: threadpoolctl>=3.1.0 in /usr/local/lib/python3.10/dist-packages (from scikit-learn>=0.23.0->scikit-learn-extra) (3.5.0)\n",
            "Downloading scikit_learn_extra-0.3.0-cp310-cp310-manylinux_2_17_x86_64.manylinux2014_x86_64.whl (2.0 MB)\n",
            "\u001b[2K   \u001b[90m━━━━━━━━━━━━━━━━━━━━━━━━━━━━━━━━━━━━━━━━\u001b[0m \u001b[32m2.0/2.0 MB\u001b[0m \u001b[31m23.1 MB/s\u001b[0m eta \u001b[36m0:00:00\u001b[0m\n",
            "\u001b[?25hInstalling collected packages: scikit-learn-extra\n",
            "Successfully installed scikit-learn-extra-0.3.0\n"
          ]
        }
      ]
    },
    {
      "cell_type": "markdown",
      "source": [
        "K-Medoids Clustering"
      ],
      "metadata": {
        "id": "C3A6wqn1VNu4"
      }
    },
    {
      "cell_type": "code",
      "source": [
        "import pandas as pd\n",
        "from sklearn.preprocessing import StandardScaler\n",
        "from sklearn_extra.cluster import KMedoids\n",
        "from sklearn.metrics import silhouette_score\n",
        "import numpy as np\n",
        "\n",
        "# Load the dataset\n",
        "def load_data(file_path):\n",
        "    data = pd.read_excel(file_path)\n",
        "    scaler = StandardScaler()  # Standard scaling\n",
        "    return scaler.fit_transform(data)\n",
        "\n",
        "# Grid Search for K-Medoids\n",
        "def grid_search_kmedoids(data, cluster_range, metric='euclidean'):\n",
        "    best_score = -1\n",
        "    best_k = None\n",
        "    for k in cluster_range:\n",
        "        kmedoids = KMedoids(n_clusters=k, metric=metric, random_state=42)\n",
        "        labels = kmedoids.fit_predict(data)\n",
        "\n",
        "        # Check for empty clusters\n",
        "        if len(np.unique(labels)) < k:\n",
        "            print(f\"Cluster count mismatch for k={k}. Skipping this value.\")\n",
        "            continue\n",
        "\n",
        "        silhouette = silhouette_score(data, labels)\n",
        "        if silhouette > best_score:\n",
        "            best_score = silhouette\n",
        "            best_k = k\n",
        "    return best_k, best_score\n",
        "\n",
        "# Main function to execute K-Medoids with Grid Search\n",
        "def run_kmedoids_clustering(file_path):\n",
        "    data = load_data(file_path)\n",
        "    cluster_range = range(2, 10)  # Testing k from 2 to 10\n",
        "    best_k, best_score = grid_search_kmedoids(data, cluster_range)\n",
        "    print(f\"Best K-Medoids k: {best_k} with score: {best_score}\")\n",
        "\n",
        "# Run the K-Medoids clustering\n",
        "file_path = '/content/labels2.xlsx'\n",
        "run_kmedoids_clustering(file_path)\n",
        "\n"
      ],
      "metadata": {
        "colab": {
          "base_uri": "https://localhost:8080/"
        },
        "id": "KPnFxyaYVYXW",
        "outputId": "0c2a7c44-6e83-455f-89d6-99d6d2e1f430"
      },
      "execution_count": null,
      "outputs": [
        {
          "output_type": "stream",
          "name": "stdout",
          "text": [
            "Cluster count mismatch for k=2. Skipping this value.\n",
            "Cluster count mismatch for k=3. Skipping this value.\n",
            "Cluster count mismatch for k=4. Skipping this value.\n",
            "Cluster count mismatch for k=5. Skipping this value.\n",
            "Cluster count mismatch for k=6. Skipping this value.\n",
            "Cluster count mismatch for k=7. Skipping this value.\n",
            "Cluster count mismatch for k=8. Skipping this value.\n",
            "Cluster count mismatch for k=9. Skipping this value.\n",
            "Best K-Medoids k: None with score: -1\n"
          ]
        },
        {
          "output_type": "stream",
          "name": "stderr",
          "text": [
            "/usr/local/lib/python3.10/dist-packages/sklearn_extra/cluster/_k_medoids.py:329: UserWarning: Cluster 1 is empty! self.labels_[self.medoid_indices_[1]] may not be labeled with its corresponding cluster (1).\n",
            "  warnings.warn(\n",
            "/usr/local/lib/python3.10/dist-packages/sklearn_extra/cluster/_k_medoids.py:329: UserWarning: Cluster 1 is empty! self.labels_[self.medoid_indices_[1]] may not be labeled with its corresponding cluster (1).\n",
            "  warnings.warn(\n",
            "/usr/local/lib/python3.10/dist-packages/sklearn_extra/cluster/_k_medoids.py:329: UserWarning: Cluster 2 is empty! self.labels_[self.medoid_indices_[2]] may not be labeled with its corresponding cluster (2).\n",
            "  warnings.warn(\n",
            "/usr/local/lib/python3.10/dist-packages/sklearn_extra/cluster/_k_medoids.py:329: UserWarning: Cluster 1 is empty! self.labels_[self.medoid_indices_[1]] may not be labeled with its corresponding cluster (1).\n",
            "  warnings.warn(\n",
            "/usr/local/lib/python3.10/dist-packages/sklearn_extra/cluster/_k_medoids.py:329: UserWarning: Cluster 2 is empty! self.labels_[self.medoid_indices_[2]] may not be labeled with its corresponding cluster (2).\n",
            "  warnings.warn(\n",
            "/usr/local/lib/python3.10/dist-packages/sklearn_extra/cluster/_k_medoids.py:329: UserWarning: Cluster 3 is empty! self.labels_[self.medoid_indices_[3]] may not be labeled with its corresponding cluster (3).\n",
            "  warnings.warn(\n",
            "/usr/local/lib/python3.10/dist-packages/sklearn_extra/cluster/_k_medoids.py:329: UserWarning: Cluster 1 is empty! self.labels_[self.medoid_indices_[1]] may not be labeled with its corresponding cluster (1).\n",
            "  warnings.warn(\n",
            "/usr/local/lib/python3.10/dist-packages/sklearn_extra/cluster/_k_medoids.py:329: UserWarning: Cluster 2 is empty! self.labels_[self.medoid_indices_[2]] may not be labeled with its corresponding cluster (2).\n",
            "  warnings.warn(\n",
            "/usr/local/lib/python3.10/dist-packages/sklearn_extra/cluster/_k_medoids.py:329: UserWarning: Cluster 3 is empty! self.labels_[self.medoid_indices_[3]] may not be labeled with its corresponding cluster (3).\n",
            "  warnings.warn(\n",
            "/usr/local/lib/python3.10/dist-packages/sklearn_extra/cluster/_k_medoids.py:329: UserWarning: Cluster 4 is empty! self.labels_[self.medoid_indices_[4]] may not be labeled with its corresponding cluster (4).\n",
            "  warnings.warn(\n",
            "/usr/local/lib/python3.10/dist-packages/sklearn_extra/cluster/_k_medoids.py:329: UserWarning: Cluster 1 is empty! self.labels_[self.medoid_indices_[1]] may not be labeled with its corresponding cluster (1).\n",
            "  warnings.warn(\n",
            "/usr/local/lib/python3.10/dist-packages/sklearn_extra/cluster/_k_medoids.py:329: UserWarning: Cluster 2 is empty! self.labels_[self.medoid_indices_[2]] may not be labeled with its corresponding cluster (2).\n",
            "  warnings.warn(\n",
            "/usr/local/lib/python3.10/dist-packages/sklearn_extra/cluster/_k_medoids.py:329: UserWarning: Cluster 3 is empty! self.labels_[self.medoid_indices_[3]] may not be labeled with its corresponding cluster (3).\n",
            "  warnings.warn(\n",
            "/usr/local/lib/python3.10/dist-packages/sklearn_extra/cluster/_k_medoids.py:329: UserWarning: Cluster 4 is empty! self.labels_[self.medoid_indices_[4]] may not be labeled with its corresponding cluster (4).\n",
            "  warnings.warn(\n",
            "/usr/local/lib/python3.10/dist-packages/sklearn_extra/cluster/_k_medoids.py:329: UserWarning: Cluster 5 is empty! self.labels_[self.medoid_indices_[5]] may not be labeled with its corresponding cluster (5).\n",
            "  warnings.warn(\n",
            "/usr/local/lib/python3.10/dist-packages/sklearn_extra/cluster/_k_medoids.py:329: UserWarning: Cluster 1 is empty! self.labels_[self.medoid_indices_[1]] may not be labeled with its corresponding cluster (1).\n",
            "  warnings.warn(\n",
            "/usr/local/lib/python3.10/dist-packages/sklearn_extra/cluster/_k_medoids.py:329: UserWarning: Cluster 2 is empty! self.labels_[self.medoid_indices_[2]] may not be labeled with its corresponding cluster (2).\n",
            "  warnings.warn(\n",
            "/usr/local/lib/python3.10/dist-packages/sklearn_extra/cluster/_k_medoids.py:329: UserWarning: Cluster 3 is empty! self.labels_[self.medoid_indices_[3]] may not be labeled with its corresponding cluster (3).\n",
            "  warnings.warn(\n",
            "/usr/local/lib/python3.10/dist-packages/sklearn_extra/cluster/_k_medoids.py:329: UserWarning: Cluster 4 is empty! self.labels_[self.medoid_indices_[4]] may not be labeled with its corresponding cluster (4).\n",
            "  warnings.warn(\n",
            "/usr/local/lib/python3.10/dist-packages/sklearn_extra/cluster/_k_medoids.py:329: UserWarning: Cluster 5 is empty! self.labels_[self.medoid_indices_[5]] may not be labeled with its corresponding cluster (5).\n",
            "  warnings.warn(\n",
            "/usr/local/lib/python3.10/dist-packages/sklearn_extra/cluster/_k_medoids.py:329: UserWarning: Cluster 1 is empty! self.labels_[self.medoid_indices_[1]] may not be labeled with its corresponding cluster (1).\n",
            "  warnings.warn(\n",
            "/usr/local/lib/python3.10/dist-packages/sklearn_extra/cluster/_k_medoids.py:329: UserWarning: Cluster 2 is empty! self.labels_[self.medoid_indices_[2]] may not be labeled with its corresponding cluster (2).\n",
            "  warnings.warn(\n",
            "/usr/local/lib/python3.10/dist-packages/sklearn_extra/cluster/_k_medoids.py:329: UserWarning: Cluster 3 is empty! self.labels_[self.medoid_indices_[3]] may not be labeled with its corresponding cluster (3).\n",
            "  warnings.warn(\n",
            "/usr/local/lib/python3.10/dist-packages/sklearn_extra/cluster/_k_medoids.py:329: UserWarning: Cluster 4 is empty! self.labels_[self.medoid_indices_[4]] may not be labeled with its corresponding cluster (4).\n",
            "  warnings.warn(\n",
            "/usr/local/lib/python3.10/dist-packages/sklearn_extra/cluster/_k_medoids.py:329: UserWarning: Cluster 5 is empty! self.labels_[self.medoid_indices_[5]] may not be labeled with its corresponding cluster (5).\n",
            "  warnings.warn(\n",
            "/usr/local/lib/python3.10/dist-packages/sklearn_extra/cluster/_k_medoids.py:329: UserWarning: Cluster 7 is empty! self.labels_[self.medoid_indices_[7]] may not be labeled with its corresponding cluster (7).\n",
            "  warnings.warn(\n",
            "/usr/local/lib/python3.10/dist-packages/sklearn_extra/cluster/_k_medoids.py:329: UserWarning: Cluster 2 is empty! self.labels_[self.medoid_indices_[2]] may not be labeled with its corresponding cluster (2).\n",
            "  warnings.warn(\n",
            "/usr/local/lib/python3.10/dist-packages/sklearn_extra/cluster/_k_medoids.py:329: UserWarning: Cluster 3 is empty! self.labels_[self.medoid_indices_[3]] may not be labeled with its corresponding cluster (3).\n",
            "  warnings.warn(\n",
            "/usr/local/lib/python3.10/dist-packages/sklearn_extra/cluster/_k_medoids.py:329: UserWarning: Cluster 4 is empty! self.labels_[self.medoid_indices_[4]] may not be labeled with its corresponding cluster (4).\n",
            "  warnings.warn(\n",
            "/usr/local/lib/python3.10/dist-packages/sklearn_extra/cluster/_k_medoids.py:329: UserWarning: Cluster 5 is empty! self.labels_[self.medoid_indices_[5]] may not be labeled with its corresponding cluster (5).\n",
            "  warnings.warn(\n",
            "/usr/local/lib/python3.10/dist-packages/sklearn_extra/cluster/_k_medoids.py:329: UserWarning: Cluster 6 is empty! self.labels_[self.medoid_indices_[6]] may not be labeled with its corresponding cluster (6).\n",
            "  warnings.warn(\n",
            "/usr/local/lib/python3.10/dist-packages/sklearn_extra/cluster/_k_medoids.py:329: UserWarning: Cluster 7 is empty! self.labels_[self.medoid_indices_[7]] may not be labeled with its corresponding cluster (7).\n",
            "  warnings.warn(\n",
            "/usr/local/lib/python3.10/dist-packages/sklearn_extra/cluster/_k_medoids.py:329: UserWarning: Cluster 8 is empty! self.labels_[self.medoid_indices_[8]] may not be labeled with its corresponding cluster (8).\n",
            "  warnings.warn(\n"
          ]
        }
      ]
    },
    {
      "cell_type": "markdown",
      "source": [
        "Diagonal Covariance GMM"
      ],
      "metadata": {
        "id": "62HeCZ6vVs4I"
      }
    },
    {
      "cell_type": "code",
      "source": [
        "import pandas as pd\n",
        "from sklearn.mixture import GaussianMixture\n",
        "from sklearn.metrics import silhouette_score\n",
        "\n",
        "# Load the dataset\n",
        "def load_data(file_path):\n",
        "    data = pd.read_excel(file_path)\n",
        "    scaler = StandardScaler()  # Standard scaling\n",
        "    return scaler.fit_transform(data)\n",
        "\n",
        "# Grid Search for GMM\n",
        "def grid_search_gmm(data, cluster_range):\n",
        "    best_score = -1\n",
        "    best_k = None\n",
        "    for k in cluster_range:\n",
        "        gmm = GaussianMixture(n_components=k, covariance_type='diag', random_state=42)\n",
        "        labels = gmm.fit_predict(data)\n",
        "        silhouette = silhouette_score(data, labels)\n",
        "        if silhouette > best_score:\n",
        "            best_score = silhouette\n",
        "            best_k = k\n",
        "    return best_k, best_score\n",
        "\n",
        "# Main function to execute GMM with Grid Search\n",
        "def run_gmm_clustering(file_path):\n",
        "    data = load_data(file_path)\n",
        "    cluster_range = range(2, 11)  # Testing k from 2 to 10\n",
        "    best_k, best_score = grid_search_gmm(data, cluster_range)\n",
        "    print(f\"Best GMM k: {best_k} with score: {best_score}\")\n",
        "\n",
        "# Run the GMM clustering\n",
        "file_path = '/content/labels2.xlsx'\n",
        "run_gmm_clustering(file_path)\n",
        "\n",
        "\n",
        "\n",
        "\n"
      ],
      "metadata": {
        "colab": {
          "base_uri": "https://localhost:8080/"
        },
        "id": "spQAduzpVwJH",
        "outputId": "bb7c8f4d-7da4-4d63-e6a3-02d7a07432b9"
      },
      "execution_count": null,
      "outputs": [
        {
          "output_type": "stream",
          "name": "stdout",
          "text": [
            "Best GMM k: 10 with score: 0.9049649294173752\n"
          ]
        }
      ]
    }
  ]
}